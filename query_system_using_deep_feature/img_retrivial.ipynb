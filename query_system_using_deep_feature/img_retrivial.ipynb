{
 "cells": [
  {
   "cell_type": "code",
   "execution_count": 11,
   "metadata": {},
   "outputs": [],
   "source": [
    "import numpy as np\n",
    "\n",
    "from sklearn import preprocessing\n",
    "\n",
    "from sklearn.metrics.pairwise import cosine_similarity\n",
    "from sklearn.metrics.pairwise import linear_kernel\n",
    "\n",
    "from sklearn.metrics.pairwise import euclidean_distances\n",
    "from sklearn.metrics.pairwise import manhattan_distances\n",
    "\n",
    "\n",
    "import tensorflow as tf\n",
    "from tensorflow.keras.preprocessing import image as kimage\n",
    "from tensorflow.keras.applications.vgg16 import preprocess_input\n",
    "\n",
    "model = tf.keras.applications.VGG16(include_top=False, weights='imagenet', input_shape=(86, 128, 3))"
   ]
  },
  {
   "cell_type": "code",
   "execution_count": 12,
   "metadata": {},
   "outputs": [],
   "source": [
    "def img_retrivial(query):\n",
    "    query_np = kimage.img_to_array(query)\n",
    "    query_np = np.expand_dims(query_np, axis=0)\n",
    "    query_np = preprocess_input(query_np)\n",
    "\n",
    "    images = []\n",
    "    lists = [i for i in range(1,252)]\n",
    "    for index in lists:\n",
    "        img = kimage.load_img('images/%d.jpg' % (index), target_size=(86, 128))\n",
    "\n",
    "        img_np = kimage.img_to_array(img)\n",
    "        img_np = np.expand_dims(img_np, axis=0)\n",
    "        img_np = preprocess_input(img_np)\n",
    "\n",
    "        images.append(img_np)\n",
    "\n",
    "    images_np = np.array(images).squeeze()\n",
    "\n",
    "    pred_query = model.predict(query_np)\n",
    "    pred_images = model.predict(images_np)\n",
    "\n",
    "    pred_query  = np.reshape(pred_query,  (1, -1))\n",
    "    pred_images = np.reshape(pred_images, (len(lists), -1))\n",
    "\n",
    "    cos_sim = cosine_similarity(pred_query, pred_images).squeeze()\n",
    "\n",
    "    def getKey(item):\n",
    "        return item[0]\n",
    "\n",
    "    cos_sim = zip(cos_sim.tolist(), lists)\n",
    "    cos_sim = sorted(cos_sim, key=getKey, reverse=True)\n",
    "    \n",
    "    return cos_sim"
   ]
  },
  {
   "cell_type": "code",
   "execution_count": 13,
   "metadata": {},
   "outputs": [],
   "source": [
    "f = open('result.txt','w+',encoding = 'utf-8')\n",
    "\n",
    "Q = ['q1.jpg','q2.jpg','q3.jpg','q4.jpg','q5.jpg']\n",
    "k = 1\n",
    "for q in Q:\n",
    "    query = kimage.load_img(q, target_size=(86, 128))\n",
    "    \n",
    "    cos_sim = img_retrivial(query)\n",
    "    \n",
    "    f.write('THỰC HIỆN TRUY VẤN ẢNH THỨ {z}'.format(z = k))\n",
    "    f.write('\\n')\n",
    "    for i in range(8):\n",
    "        f.write(' - Kết quả của ảnh truy vấn giống thứ {t} của các bộ đo -'.format(t = i+1))\n",
    "        f.write('\\n')\n",
    "        f.write('Bộ đo cô sin: {t}'.format(t = cos_sim[i][0]))\n",
    "        f.write('\\n')\n",
    "        f.write('Ảnh được truy vấn có số thứ tự: {t}'.format(t = cos_sim[i][1]))\n",
    "        f.write('\\n')\n",
    "        f.write('===============================================')\n",
    "        f.write('\\n')\n",
    "    f.write('\\n')\n",
    "    k+=1"
   ]
  }
 ],
 "metadata": {
  "kernelspec": {
   "display_name": "Python 3",
   "language": "python",
   "name": "python3"
  },
  "language_info": {
   "codemirror_mode": {
    "name": "ipython",
    "version": 3
   },
   "file_extension": ".py",
   "mimetype": "text/x-python",
   "name": "python",
   "nbconvert_exporter": "python",
   "pygments_lexer": "ipython3",
   "version": "3.7.7"
  }
 },
 "nbformat": 4,
 "nbformat_minor": 4
}