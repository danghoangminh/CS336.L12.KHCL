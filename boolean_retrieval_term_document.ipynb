{
  "nbformat": 4,
  "nbformat_minor": 0,
  "metadata": {
    "colab": {
      "name": "boolean_retrieval_term-document.ipynb",
      "provenance": [],
      "collapsed_sections": [],
      "authorship_tag": "ABX9TyOYtvh69JPrwOii8CmSH2Gm",
      "include_colab_link": true
    },
    "kernelspec": {
      "name": "python3",
      "display_name": "Python 3"
    }
  },
  "cells": [
    {
      "cell_type": "markdown",
      "metadata": {
        "id": "view-in-github",
        "colab_type": "text"
      },
      "source": [
        "<a href=\"https://colab.research.google.com/github/danghoangminh/CS336.L12.KHCL/blob/master/boolean_retrieval_term_document.ipynb\" target=\"_parent\"><img src=\"https://colab.research.google.com/assets/colab-badge.svg\" alt=\"Open In Colab\"/></a>"
      ]
    },
    {
      "cell_type": "code",
      "metadata": {
        "id": "VIO3q8DAJOBq",
        "outputId": "fccfbac4-60b5-4e39-9951-3b12466c37cf",
        "colab": {
          "base_uri": "https://localhost:8080/",
          "height": 34
        }
      },
      "source": [
        "from google.colab import drive\n",
        "drive.mount('/content/drive')"
      ],
      "execution_count": 1,
      "outputs": [
        {
          "output_type": "stream",
          "text": [
            "Mounted at /content/drive\n"
          ],
          "name": "stdout"
        }
      ]
    },
    {
      "cell_type": "code",
      "metadata": {
        "id": "OhpF4oOhJSTt"
      },
      "source": [
        "import glob\n",
        "import numpy as np"
      ],
      "execution_count": 2,
      "outputs": []
    },
    {
      "cell_type": "code",
      "metadata": {
        "id": "YwXmPPlaJd7D"
      },
      "source": [
        "files = glob.glob('/content/drive/My Drive/Colab Notebooks/boolean retrieval term-document/data/*.txt')\n",
        "docs = []\n",
        "for file in files:\n",
        "    f = open(file, \"r\", encoding='utf-8')\n",
        "    file_content = f.read()\n",
        "    docs.append(file_content)"
      ],
      "execution_count": 3,
      "outputs": []
    },
    {
      "cell_type": "code",
      "metadata": {
        "id": "_tfifc8QJ_B9"
      },
      "source": [
        "unique_terms = {term for doc in docs for term in doc.replace('.', ' ').replace('\"', ' ').replace(',', ' ').split()}\n",
        "term_doc_matrix = {}\n",
        "for term in unique_terms:\n",
        "  term_doc_matrix[term] = []\n",
        "  for doc in docs:\n",
        "    if term in doc:\n",
        "      term_doc_matrix[term].append(1)\n",
        "    else: \n",
        "      term_doc_matrix[term].append(0)"
      ],
      "execution_count": 4,
      "outputs": []
    },
    {
      "cell_type": "code",
      "metadata": {
        "id": "5KdTFQVjex_d"
      },
      "source": [
        "def check_term_exit(word):\n",
        "  if word in term_doc_matrix:\n",
        "    return np.array(term_doc_matrix[word])\n",
        "  else:\n",
        "    return np.zeros(len(docs_array), dtype=int)"
      ],
      "execution_count": 9,
      "outputs": []
    },
    {
      "cell_type": "code",
      "metadata": {
        "id": "vWu2788qKKCc",
        "outputId": "f36c20b8-4c44-4691-d8e2-123f9a204a7b",
        "colab": {
          "base_uri": "https://localhost:8080/",
          "height": 319
        }
      },
      "source": [
        "with open('/content/drive/My Drive/Colab Notebooks/boolean retrieval term-document/query_list.txt', 'r', encoding='utf-8') as file:\n",
        "  lst_query = file.read().splitlines()\n",
        "  for line in lst_query:\n",
        "    query = line.replace('\"', ' ').split()\n",
        "    docs_array = np.array(docs, dtype='object')\n",
        "    if len(query) == 1:\n",
        "      ans = np.array(term_doc_matrix[query[0]])\n",
        "    elif len(query) > 2:\n",
        "      ans = np.zeros(len(docs_array), dtype=int)\n",
        "      for i in range(1, len(query)):\n",
        "        if query[i] == \"AND\":\n",
        "          word1 = query[i - 1]\n",
        "          word2 = query[i + 1]\n",
        "          arr1 = check_term_exit(word1)\n",
        "          arr2 = check_term_exit(word2)\n",
        "          ans = (arr1 & arr2)\n",
        "        elif query[i] == \"OR\":\n",
        "          word1 = query[i - 1]\n",
        "          word2 = query[i + 1]\n",
        "          arr1 = check_term_exit(word1)\n",
        "          arr2 = check_term_exit(word2)\n",
        "          ans = (arr1 | arr2)\n",
        "        elif query[i] == \"NOT\":\n",
        "          word1 = query[i - 1]\n",
        "          word2 = query[i + 1]\n",
        "          arr1 = check_term_exit(word1)\n",
        "          arr2 = check_term_exit(word2)\n",
        "          ans = (arr1 - arr2)\n",
        "    print('\\nVăn bản thỏa truy vấn: ', line)\n",
        "    print(ans)"
      ],
      "execution_count": 12,
      "outputs": [
        {
          "output_type": "stream",
          "text": [
            "\n",
            "Văn bản thỏa truy vấn:  \"Ronaldo\" AND \"Brazil\"\n",
            "[0 0 1 1 0 0 0 0 0 0]\n",
            "\n",
            "Văn bản thỏa truy vấn:  \"Messi\" AND \"Suarez\"\n",
            "[0 0 0 0 0 0 0 0 0 0]\n",
            "\n",
            "Văn bản thỏa truy vấn:  \"Trump\" AND \"Covid\"\n",
            "[0 0 0 0 0 0 0 0 0 0]\n",
            "\n",
            "Văn bản thỏa truy vấn:  \"Trump\" AND \"Biden\"\n",
            "[0 0 0 0 0 0 1 1 0 0]\n",
            "\n",
            "Văn bản thỏa truy vấn:  \"Trump\" AND \"Biden\" NOT \"Covid\"\n",
            "[0 0 0 0 0 0 1 1 0 0]\n",
            "\n",
            "Văn bản thỏa truy vấn:  \"SARS-CoV-2\"\n",
            "[0 0 0 0 0 1 1 0 0 0]\n"
          ],
          "name": "stdout"
        }
      ]
    }
  ]
}