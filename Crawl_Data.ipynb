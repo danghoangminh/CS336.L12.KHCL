{
  "nbformat": 4,
  "nbformat_minor": 0,
  "metadata": {
    "colab": {
      "name": "Crawl Data.ipynb",
      "provenance": [],
      "authorship_tag": "ABX9TyNrpAcg1bHah/8fK5twJgEr",
      "include_colab_link": true
    },
    "kernelspec": {
      "name": "python3",
      "display_name": "Python 3"
    }
  },
  "cells": [
    {
      "cell_type": "markdown",
      "metadata": {
        "id": "view-in-github",
        "colab_type": "text"
      },
      "source": [
        "<a href=\"https://colab.research.google.com/github/danghoangminh/CS336.L12.KHCL/blob/master/Crawl_Data.ipynb\" target=\"_parent\"><img src=\"https://colab.research.google.com/assets/colab-badge.svg\" alt=\"Open In Colab\"/></a>"
      ]
    },
    {
      "cell_type": "code",
      "metadata": {
        "id": "8A2SjC7Vhqxt",
        "colab_type": "code",
        "colab": {}
      },
      "source": [
        "import requests\n",
        "from bs4 import BeautifulSoup\n",
        "response = requests.get(\"https://tuoitre.vn/tin-moi-nhat.htm\")\n",
        "soup = BeautifulSoup(response.content, \"html.parser\")\n",
        "titles = soup.findAll('h3', class_='title-news')\n",
        "links = [link.find('a').attrs[\"href\"] for link in titles]"
      ],
      "execution_count": 3,
      "outputs": []
    },
    {
      "cell_type": "code",
      "metadata": {
        "id": "6eqULRcCioZs",
        "colab_type": "code",
        "colab": {
          "base_uri": "https://localhost:8080/",
          "height": 1000
        },
        "outputId": "036bd6e1-bfd4-477e-9279-5a539ca903fc"
      },
      "source": [
        "for link in links:\n",
        "    news = requests.get('https://tuoitre.vn' + link)\n",
        "    soup = BeautifulSoup(news.content, \"html.parser\")\n",
        "    title = soup.find(\"h1\", class_=\"article-title\").text\n",
        "    time = soup.find(\"div\", class_=\"date-time\").text\n",
        "    print(\"Title: \" + title)\n",
        "    print(\"Time: \" + time)\n",
        "    print(\"----------------------------------------------\")"
      ],
      "execution_count": 4,
      "outputs": [
        {
          "output_type": "stream",
          "text": [
            "Title: Bão số 5 khiến 22.000 nhà dân tốc mái, 110 người bị thương\n",
            "Time: 19/09/2020 13:03 GMT+7\n",
            "----------------------------------------------\n",
            "Title: Buộc truy thu tiền hỗ trợ COVID-19 'lạc' vào 7 hộ 'nhà giàu'\n",
            "Time: 19/09/2020 13:03 GMT+7\n",
            "----------------------------------------------\n",
            "Title: Làng Mai thông tin về sức khỏe thiền sư Nhất Hạnh\n",
            "Time: 19/09/2020 12:54 GMT+7\n",
            "----------------------------------------------\n",
            "Title: Người dân Hà Tĩnh ‘quay cuồng’ với lốc xoáy\n",
            "Time: 19/09/2020 12:52 GMT+7\n",
            "----------------------------------------------\n",
            "Title: Nikkei: Mỹ đang nhắm vào các tàu ngầm của Trung Quốc ở Biển Đông\n",
            "Time: 19/09/2020 12:51 GMT+7\n",
            "----------------------------------------------\n",
            "Title: Học trò lớp 6 sáng chế máy tự động chống COVID-19\n",
            "Time: 19/09/2020 12:45 GMT+7\n",
            "----------------------------------------------\n",
            "Title: Chuyên gia đã nhập cảnh, tàu metro số 1 TP.HCM ngày 30-9 sẽ rời cảng về Việt Nam\n",
            "Time: 19/09/2020 12:28 GMT+7\n",
            "----------------------------------------------\n",
            "Title: Bị cáo Lê Thị Thanh Thúy: 'Một phụ nữ như tôi làm sao tác động được cả hệ thống?'\n",
            "Time: 19/09/2020 12:24 GMT+7\n",
            "----------------------------------------------\n",
            "Title: Những baby bay về từ xứ Hàn\n",
            "Time: 19/09/2020 12:00 GMT+7\n",
            "----------------------------------------------\n",
            "Title: Đầu chìa khóa hoen rỉ nằm ở mang tai nam thanh niên suốt 1 năm\n",
            "Time: 19/09/2020 11:31 GMT+7\n",
            "----------------------------------------------\n",
            "Title: Dân Cần Thơ được đi xe buýt máy lạnh, có wifi\n",
            "Time: 19/09/2020 11:31 GMT+7\n",
            "----------------------------------------------\n",
            "Title: Xem pha đốt đền 'thảm họa nhất hành tinh' vừa xảy ra ở Trung Quốc\n",
            "Time: 19/09/2020 11:31 GMT+7\n",
            "----------------------------------------------\n",
            "Title: Vòng 2 Giải ngoại hạng Anh (Premier League): Hồi hộp chờ 'quỷ đỏ' ra quân\n",
            "Time: 19/09/2020 11:30 GMT+7\n",
            "----------------------------------------------\n",
            "Title: TP.HCM khánh thành nút giao thông An Sương, giải tỏa ùn tắc cửa ngõ Tây Bắc\n",
            "Time: 19/09/2020 11:29 GMT+7\n",
            "----------------------------------------------\n",
            "Title: 'Em nó giỏi lắm, cô cho em tiền học quản lý nữa là có việc lương cao'\n",
            "Time: 19/09/2020 11:13 GMT+7\n",
            "----------------------------------------------\n",
            "Title: Thành lập Học viện đào tạo máy bay không người lái đầu tiên tại Việt Nam\n",
            "Time: 19/09/2020 11:13 GMT+7\n",
            "----------------------------------------------\n",
            "Title: Trúng sổ tiết kiệm khi gửi tiết kiệm tích lũy\n",
            "Time: 19/09/2020 11:00 GMT+7\n",
            "----------------------------------------------\n",
            "Title: Chuyến bay thương mại quốc tế thường lệ đầu tiên sau COVID-19 đã cất cánh\n",
            "Time: 19/09/2020 10:50 GMT+7\n",
            "----------------------------------------------\n",
            "Title: TP.HCM muốn có con đường tốt nhất, nhanh nhất xây dựng chính quyền đô thị\n",
            "Time: 19/09/2020 10:48 GMT+7\n",
            "----------------------------------------------\n",
            "Title: Dọn sạch  'mảnh đất' thể chế\n",
            "Time: 19/09/2020 10:47 GMT+7\n",
            "----------------------------------------------\n"
          ],
          "name": "stdout"
        }
      ]
    }
  ]
}