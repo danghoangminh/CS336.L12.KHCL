{
  "nbformat": 4,
  "nbformat_minor": 0,
  "metadata": {
    "colab": {
      "name": "Vector_space_invert_file.ipynb",
      "provenance": [],
      "collapsed_sections": [],
      "authorship_tag": "ABX9TyOEzAhM3X5cs8JV2zrLfK2Z",
      "include_colab_link": true
    },
    "kernelspec": {
      "name": "python3",
      "display_name": "Python 3"
    }
  },
  "cells": [
    {
      "cell_type": "markdown",
      "metadata": {
        "id": "view-in-github",
        "colab_type": "text"
      },
      "source": [
        "<a href=\"https://colab.research.google.com/github/danghoangminh/CS336.L12.KHCL/blob/master/Vector_Space/Vector_space_invert_file.ipynb\" target=\"_parent\"><img src=\"https://colab.research.google.com/assets/colab-badge.svg\" alt=\"Open In Colab\"/></a>"
      ]
    },
    {
      "cell_type": "code",
      "metadata": {
        "id": "tEd0HbtaY7K_",
        "outputId": "2e60ecd4-b16b-46ec-8239-d220581717bc",
        "colab": {
          "base_uri": "https://localhost:8080/",
          "height": 34
        }
      },
      "source": [
        "from google.colab import drive\n",
        "drive.mount('/content/drive/')"
      ],
      "execution_count": 1,
      "outputs": [
        {
          "output_type": "stream",
          "text": [
            "Mounted at /content/drive/\n"
          ],
          "name": "stdout"
        }
      ]
    },
    {
      "cell_type": "code",
      "metadata": {
        "id": "UVYnUvS7Y-fW"
      },
      "source": [
        "import requests\n",
        "from bs4 import BeautifulSoup\n",
        "import datetime\n",
        "from datetime import date, timedelta\n",
        "\n",
        "today_ = date.today()\n",
        "\n",
        "# dd/mm/YY\n",
        "today = str(today_.day) + \"/\" + str(today_.month) + \"/\" + str(today_.year)\n",
        "today = datetime.datetime.strptime(today, '%d/%m/%Y')\n",
        "\n",
        "data_dir = \"/content/drive/My Drive/Colab Notebooks/CS336/Vector_Space/data/\"\n",
        "last_month = date(today_.year, today_.month - 2, today_.day)\n",
        "delta = today_ - last_month\n",
        "index = 0\n",
        "\n",
        "for i in range(delta.days + 1):\n",
        "    day = last_month + timedelta(days=i)\n",
        "    day = str(day.day) + \"-\" + str(day.month) + \"-\" + str(day.year)\n",
        "    url = \"https://tuoitre.vn/xem-theo-ngay/\" + day + \".htm\"\n",
        "    response = requests.get(url)\n",
        "    soup = BeautifulSoup(response.content, \"html.parser\")\n",
        "    titles = soup.findAll('h3', class_='title-news')\n",
        "    links = [link.find('a').attrs[\"href\"] for link in titles]\n",
        "    for link in links:\n",
        "        news = requests.get(\"https://tuoitre.vn\" + link)\n",
        "        soup = BeautifulSoup(news.content, \"html.parser\")\n",
        "        try:\n",
        "            title = soup.find(\"h1\", class_=\"article-title\").text\n",
        "            abstract = soup.find(\"h2\", class_=\"sapo\").text\n",
        "            body = soup.find(\"div\", id=\"main-detail-body\")\n",
        "            paras = body.findChildren(\"p\", recursive=False)\n",
        "            content = \"\"\n",
        "            for p in paras:\n",
        "                content += p.text\n",
        "            with open(data_dir + str(index) + '.txt', 'w', encoding='utf-8') as f:\n",
        "                f.write(content)\n",
        "                index += 1\n",
        "        except:\n",
        "            continue"
      ],
      "execution_count": 3,
      "outputs": []
    },
    {
      "cell_type": "code",
      "metadata": {
        "id": "OjgnjYPWaRLt",
        "outputId": "5e73a3de-20fc-44cb-c383-d937edc086c4",
        "colab": {
          "base_uri": "https://localhost:8080/",
          "height": 87
        }
      },
      "source": [
        "import os\n",
        "import re\n",
        "import numpy as np\n",
        "\n",
        "path = \"/content/drive/My Drive/Colab Notebooks/CS336/Vector_Space/data/\"\n",
        "\n",
        "def sorter(item):\n",
        "    id = list(item[1])\n",
        "    return float(id[0])\n",
        "\n",
        "def load_data_in_a_directory(path):\n",
        "    list_str = []\n",
        "    files = os.listdir(path)\n",
        "    for file in files:\n",
        "        f = open(path+file,\"r\",encoding=\"utf8\")\n",
        "        content_file = f.read()\n",
        "        content_file = re.sub(\"\\,|\\.|\\-|\\'|\\\"|\\_|\\+|\\?|\\!|\\@|\\#|\\$|\\%|\\;|\\[|\\]|\\/|\\:|\\)|\\(\",\"\",content_file)\n",
        "        content_file = content_file.lower()\n",
        "        content_file = content_file.split()\n",
        "        list_str.append(content_file) \n",
        "    return (list_str,files)\n",
        "\n",
        "def build_dictionary(contents):\n",
        "    dictionary = set()\n",
        "    for content in contents:\n",
        "        dictionary.update(content)\n",
        "    return dictionary\n",
        "\n",
        "def tf_weighting(vocab, contents,query_content):\n",
        "    k={}\n",
        "    TF = np.zeros(((len(vocab)),len(contents)))\n",
        "    for i, word in enumerate(vocab):\n",
        "        if word in query_content:\n",
        "            for j, content in enumerate(contents):\n",
        "                TF[i,j] = content.count(word)\n",
        "                if k.get(word,None) is None:\n",
        "                    k[word] = {(i,j)}\n",
        "                else:\n",
        "                    k[word].add((i,j))\n",
        "        else:\n",
        "            for j, content in enumerate(contents):\n",
        "                TF[i,j] = content.count(word)\n",
        "    TF = TF / np.sum(TF, axis =0)\n",
        "    return TF,k\n",
        "\n",
        "arr1 = []\n",
        "query = \"trump biden\"\n",
        "query_content = query.split()\n",
        "contents, paths = load_data_in_a_directory(path)\n",
        "vocab = build_dictionary(contents)\n",
        "TF,k = tf_weighting(vocab, contents,query_content)\n",
        "DF = np.sum(TF!=0, axis=1)\n",
        "IDF = 1+ np.log2(len(contents)/DF)\n",
        "IDF = np.array([IDF]).T \n",
        "TF_IDF = TF * IDF\n",
        "\n",
        "for i in range(len(query_content)):\n",
        "    arr= k.get(query_content[i])\n",
        "    arr = (list(arr))\n",
        "    arr1.append(arr)\n",
        "inverted_index = {}\n",
        "posting = []\n",
        "for i, querys in enumerate(query_content):\n",
        "    m = arr1[i]\n",
        "    for j in m:\n",
        "        x = j[0]\n",
        "        y = j[1]\n",
        "        l = TF_IDF[x,y]\n",
        "        if inverted_index.get(y, None) is None:\n",
        "            inverted_index[y] = {l}\n",
        "        else:\n",
        "            g = list(inverted_index.get(y))\n",
        "            f = float(l)+ float(g[0])\n",
        "            inverted_index.pop(y)\n",
        "            inverted_index[y] = {f}\n",
        "arr2 = list(inverted_index.items())\n",
        "arr2 = np.array(arr2)\n",
        "rank = sorted(arr2,key=sorter)\n",
        "topk = 3\n",
        "for i in range(1,topk):\n",
        "    print('Van ban gan thu', i, 'la: ', ' '.join(contents[rank[-1*i][0]]))"
      ],
      "execution_count": 4,
      "outputs": [
        {
          "output_type": "stream",
          "text": [
            "Van ban gan thu 1 la:  cuộc khẩu chiến giữa ông trump và ông biden đang ngày càng tăng cấp khi thời gian dần trôi về mốc 299 màn tranh luận trực tiếp đầu tiên giữa hai người có ý nghĩa quan trọng quyết định ai sẽ là người giành được cảm tình của các cử tri đang còn phân vânvấn đề sức khỏe của ông biden cũng sẽ được hé lộ thông qua các cuộc tranh luận với đối thủ trump vốn nhỏ hơn 4 tuổi theo hãng thông tấn afptôi sẽ mạnh mẽ yêu cầu làm xét nghiệm chất kích thích với biden buồn ngủ trước hoặc sau cuộc tranh luận tuần tới tất nhiên tôi cũng sẽ gật đầu làm xét nghiệm ông trump thách thức đối thủ trên twitter cá nhân ngày 279theo tổng thống mỹ các màn tranh luận của ông biden thường có tiếng là không được trơn tru cho lắm ông cho rằng chỉ có chơi thuốc mới giúp cựu phó tổng thống biden tạo ra khác biệt nhưng không đưa ra được bằng chứng gìbản thân ông biden trước đó đã hâm nóng cuộc khẩu chiến khi so sánh ông trump với bộ trưởng truyền thông của phát xít đức “ông ta giống như goebbels khi bạn nói dối đủ lâu và cứ lặp lại suốt nó sẽ trở thành điều bình thường ông ta không biết cách tranh luận về những điều thực tế ông ta không thông minh đến mức đó và chẳng biết gì chính sách đối ngoại hay đối nội” ông biden công kích đối thủ trên đài msnbc ngày 269tổng thống trump trước đó hay đặt câu hỏi về sức khỏe của ông biden và gọi ông một cách mỉa mai là biden buồn ngủ khiến nhiều người tin rằng ông biden không đủ sức khỏe đảm đương trọng trách năm 2016 vấn đề sức khỏe của bà hillary clinton đối thủ của ông trump cũng thu hút sự chú ý sau khi bà bị vấp ngã ở nơi công cộngmột vài người lo ngại với tính hay nói hớ ông biden sẽ bị ông trump lấn lướt trong cuộc tranh luận trực tiếp vào ngày 299 tới cuộc tranh luận sẽ xoay quanh 6 chủ đề từ covid19 đến tòa tối cao mỹ kinh tế và bạo lực chủng tộcnhững người ủng hộ ông biden đang hi vọng cựu phó tổng thống sẽ lặp lại kỳ tích năm 2012 màn tranh luận của ông biden với ứng viên phó tổng thống của đảng cộng hòa paul ryan được xem là một bước ngoặt cứu cả chiến dịch tranh cử của ông barack obama theo báo the guardian\n",
            "Van ban gan thu 2 la:  hãy nhớ rằng tôi sẽ không làm tổng thống ngay bây giờ nếu cựu tổng thống mỹ obama và ứng viên tổng thống đảng dân chủ biden trước đó đã làm ra trò công việc của họ sự thật là họ rất tệ tổng thống mỹ donald trump viết trên twitter ngày 1210bình luận trên được ông trump đưa ra khi ngày diễn ra bầu cử tổng thống mỹ 311 đang cận kề trước khi trở thành ứng viên tổng thống đại diện đảng dân chủ ra đối đầu ông trump ông joe biden là phó tổng thống mỹ dưới thời tổng thống mỹ barack obama từ năm 2009 2017cũng trong ngày 1210 tổng thống trump cho biết ngày 3112020 sẽ là ngày lý thú nhất trong lịch sử mỹ ngày 311 năm nay sẽ là ngày lý thú nhất trong lịch sử bầu cử mỹ thậm chí nhiều hơn năm 2016 đang có sự hứng thú và hăng hái to lớn điều mà có lẽ chưa bao giờ có trước đây ông trump viết trên twittertheo đài fox news tổng thống trump sẽ tổ chức một cuộc vận động tranh cử tại bang chiến trường florida vào tối 1210 giờ mỹ và đây là lần đầu tiên ông trump quay lại tham gia các sự kiện tranh cử kể từ lúc ông mắc covid19cuối tuần trước sean conley bác sĩ của ông trump cho biết tổng thống trump đã đáp ứng các tiêu chuẩn của trung tâm kiểm soát và phòng ngừa dịch bệnh mỹ cdc để kết thúc việc cách ly\n"
          ],
          "name": "stdout"
        },
        {
          "output_type": "stream",
          "text": [
            "/usr/local/lib/python3.6/dist-packages/ipykernel_launcher.py:43: RuntimeWarning: invalid value encountered in true_divide\n"
          ],
          "name": "stderr"
        }
      ]
    }
  ]
}